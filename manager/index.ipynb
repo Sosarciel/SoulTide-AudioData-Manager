{
 "cells": [
  {
   "cell_type": "code",
   "execution_count": 27,
   "metadata": {},
   "outputs": [],
   "source": [
    "### 进入python_venv虚拟环境\n",
    "!python_venv\\\\Scripts\\\\activate"
   ]
  },
  {
   "cell_type": "code",
   "execution_count": 26,
   "metadata": {},
   "outputs": [
    {
     "name": "stdout",
     "output_type": "stream",
     "text": [
      "\"[\\\"Akaset\\\", \\\"Alisa\\\", \\\"AmaneInori\\\", \\\"Andrea\\\", \\\"Asuna\\\", \\\"Aurora\\\", \\\"Benten\\\", \\\"Colcher\\\", \\\"Dreizehn\\\", \\\"Ennis\\\", \\\"EtsukazuMiko\\\", \\\"Freesia\\\", \\\"Gawana\\\", \\\"HagakureRuri\\\", \\\"HazukiYuki\\\", \\\"Ithil\\\", \\\"Juewa\\\", \\\"Lavira\\\", \\\"Lilyiro\\\", \\\"Minerdwen\\\", \\\"Mist\\\", \\\"NankungLin\\\", \\\"Netsuki\\\", \\\"NetsukiFox\\\", \\\"NicoletteLamel\\\", \\\"QuLing\\\", \\\"SakuyaMako\\\", \\\"Satya\\\", \\\"Silenus\\\", \\\"TsukinoMiyo\\\", \\\"Virgina\\\", \\\"AkasetNS\\\", \\\"AuroraNS\\\", \\\"SilenusNS\\\", \\\"ColcherNS\\\", \\\"Dolores\\\", \\\"None\\\", \\\"None\\\", \\\"None\\\", \\\"Kokkoro\\\"]\"\n"
     ]
    }
   ],
   "source": [
    "### 设置namelist\n",
    "import json\n",
    "name_list = [\n",
    "    \"Akaset\",\"Alisa\",\"AmaneInori\",\"Andrea\",\"Asuna\",\"Aurora\",\n",
    "    \"Benten\",\"Colcher\",\"Dreizehn\",\"Ennis\",\"EtsukazuMiko\",\n",
    "    \"Freesia\",\"Gawana\",\"HagakureRuri\",\"HazukiYuki\",\"Ithil\",\n",
    "    \"Juewa\",\"Lavira\",\"Lilyiro\",\"Minerdwen\",\"Mist\",\n",
    "    \"NankungLin\",\"Netsuki\",\"NetsukiFox\",\"NicoletteLamel\",\"QuLing\",\n",
    "    \"SakuyaMako\",\"Satya\",\"Silenus\",\"TsukinoMiyo\",\"Virgina\",\"AkasetNS\",\n",
    "    \"AuroraNS\",\"SilenusNS\",\"ColcherNS\",\"Dolores\",\"None\",\"None\",\"None\",\"Kokkoro\"\n",
    "]\n",
    "name_list_arg = json.dumps(name_list).replace(\"\\\"\", \"\\\\\\\"\")\n",
    "name_list_arg = f'\\\"{name_list_arg}\\\"'\n",
    "print(name_list_arg)\n"
   ]
  },
  {
   "cell_type": "code",
   "execution_count": null,
   "metadata": {},
   "outputs": [],
   "source": [
    "### 构建filelist\n",
    "!node ./tools/test.js --name_list {name_list_arg}\n"
   ]
  }
 ],
 "metadata": {
  "kernelspec": {
   "display_name": "Python 3",
   "language": "python",
   "name": "python3"
  },
  "language_info": {
   "codemirror_mode": {
    "name": "ipython",
    "version": 3
   },
   "file_extension": ".py",
   "mimetype": "text/x-python",
   "name": "python",
   "nbconvert_exporter": "python",
   "pygments_lexer": "ipython3",
   "version": "3.9.13"
  }
 },
 "nbformat": 4,
 "nbformat_minor": 2
}
